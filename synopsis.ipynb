{
 "cells": [
  {
   "cell_type": "code",
   "execution_count": 9,
   "id": "b062efeb-53db-49c9-8a67-e96a97f2aca4",
   "metadata": {},
   "outputs": [],
   "source": [
    "import pandas as pd"
   ]
  },
  {
   "cell_type": "code",
   "execution_count": 10,
   "id": "420baeff-1300-4026-9e92-4ea6c3114713",
   "metadata": {},
   "outputs": [
    {
     "name": "stdout",
     "output_type": "stream",
     "text": [
      "     test  root    logic_lvt  milkyway  logl20hdl090f_m11f2f1f3f2f0f2_UTRDL\n",
      "0    test  root    logic_vvt  milkyway  logl16hdl090f_m11f2f1f3f2f0f2_UTRDL\n",
      "1    test  root    power_vvt  milkyway  logl20hdh090f_m11f2f1f3f2f0f2_UTRDL\n",
      "2    test  root  logic_vvt_2  milkyway  logl20hdl090f_m11f2f1f3f2f0f2_UTRDL\n",
      "3    test  root    logic_lvt   db_nldm     logl20hdl090f_ssgnp0p63v0c.lib.Z\n",
      "4    test  root    logic_lvt   db_nldm     logl20hdl090f_ffgnp0p935vn40c.db\n",
      "..    ...   ...          ...       ...                                  ...\n",
      "444  test  root  logic_vvt_2   db_nldm  logl20hdl090f_ffgnp0p935v125c.lib.Z\n",
      "445  test  root  logic_vvt_2    db_ccs        logl20hdl090f_tt0p8v25c.lib.Z\n",
      "446  test  root  logic_vvt_2    db_ccs  logl20hdl090f_ffgnp0p935v125c.lib.Z\n",
      "447  test  root  logic_vvt_2    db_ccs       logl20hdl090f_tt0p85v85c.lib.Z\n",
      "448  test  root  logic_vvt_2    db_ccs      logl20hdl090f_ffgnp0p77vn40c.db\n",
      "\n",
      "[449 rows x 5 columns]\n"
     ]
    }
   ],
   "source": [
    "df1=pd.read_csv('C:/Users/singa/Downloads/test.csv',delimiter= '/')\n",
    "\n",
    "print(df1)\n"
   ]
  },
  {
   "cell_type": "code",
   "execution_count": 11,
   "id": "0380e8b5-daca-44cf-a946-97c42230462d",
   "metadata": {},
   "outputs": [
    {
     "data": {
      "text/html": [
       "<div>\n",
       "<style scoped>\n",
       "    .dataframe tbody tr th:only-of-type {\n",
       "        vertical-align: middle;\n",
       "    }\n",
       "\n",
       "    .dataframe tbody tr th {\n",
       "        vertical-align: top;\n",
       "    }\n",
       "\n",
       "    .dataframe thead th {\n",
       "        text-align: right;\n",
       "    }\n",
       "</style>\n",
       "<table border=\"1\" class=\"dataframe\">\n",
       "  <thead>\n",
       "    <tr style=\"text-align: right;\">\n",
       "      <th></th>\n",
       "      <th>test</th>\n",
       "      <th>root</th>\n",
       "      <th>lib</th>\n",
       "      <th>file</th>\n",
       "      <th>oc</th>\n",
       "    </tr>\n",
       "  </thead>\n",
       "  <tbody>\n",
       "    <tr>\n",
       "      <th>0</th>\n",
       "      <td>test</td>\n",
       "      <td>root</td>\n",
       "      <td>logic_vvt</td>\n",
       "      <td>milkyway</td>\n",
       "      <td>logl16hdl090f_m11f2f1f3f2f0f2_UTRDL</td>\n",
       "    </tr>\n",
       "    <tr>\n",
       "      <th>1</th>\n",
       "      <td>test</td>\n",
       "      <td>root</td>\n",
       "      <td>power_vvt</td>\n",
       "      <td>milkyway</td>\n",
       "      <td>logl20hdh090f_m11f2f1f3f2f0f2_UTRDL</td>\n",
       "    </tr>\n",
       "    <tr>\n",
       "      <th>2</th>\n",
       "      <td>test</td>\n",
       "      <td>root</td>\n",
       "      <td>logic_vvt_2</td>\n",
       "      <td>milkyway</td>\n",
       "      <td>logl20hdl090f_m11f2f1f3f2f0f2_UTRDL</td>\n",
       "    </tr>\n",
       "    <tr>\n",
       "      <th>3</th>\n",
       "      <td>test</td>\n",
       "      <td>root</td>\n",
       "      <td>logic_lvt</td>\n",
       "      <td>db_nldm</td>\n",
       "      <td>logl20hdl090f_ssgnp0p63v0c.lib.Z</td>\n",
       "    </tr>\n",
       "    <tr>\n",
       "      <th>4</th>\n",
       "      <td>test</td>\n",
       "      <td>root</td>\n",
       "      <td>logic_lvt</td>\n",
       "      <td>db_nldm</td>\n",
       "      <td>logl20hdl090f_ffgnp0p935vn40c.db</td>\n",
       "    </tr>\n",
       "  </tbody>\n",
       "</table>\n",
       "</div>"
      ],
      "text/plain": [
       "   test  root          lib      file                                   oc\n",
       "0  test  root    logic_vvt  milkyway  logl16hdl090f_m11f2f1f3f2f0f2_UTRDL\n",
       "1  test  root    power_vvt  milkyway  logl20hdh090f_m11f2f1f3f2f0f2_UTRDL\n",
       "2  test  root  logic_vvt_2  milkyway  logl20hdl090f_m11f2f1f3f2f0f2_UTRDL\n",
       "3  test  root    logic_lvt   db_nldm     logl20hdl090f_ssgnp0p63v0c.lib.Z\n",
       "4  test  root    logic_lvt   db_nldm     logl20hdl090f_ffgnp0p935vn40c.db"
      ]
     },
     "execution_count": 11,
     "metadata": {},
     "output_type": "execute_result"
    }
   ],
   "source": [
    "df1.rename( columns=({'logic_lvt':'lib','milkyway':'file','logl20hdl090f_m11f2f1f3f2f0f2_UTRDL':'oc'}), inplace=True )\n",
    "df1.head(5)"
   ]
  },
  {
   "cell_type": "code",
   "execution_count": 12,
   "id": "b452a762",
   "metadata": {},
   "outputs": [],
   "source": [
    "\n",
    "df1[['oc1','oc2']]=df1['oc'].str.split('_',n=1,expand=True)\n"
   ]
  },
  {
   "cell_type": "code",
   "execution_count": 15,
   "id": "ebb4630a-0a0c-469e-bd36-117b366a3940",
   "metadata": {},
   "outputs": [],
   "source": [
    "df1[['file1','file2']]=df1['file'].str.split('_',n=1,expand=True)\n"
   ]
  },
  {
   "cell_type": "code",
   "execution_count": 14,
   "id": "6e7994b3-eee2-4f11-a85f-62cfec1d6590",
   "metadata": {},
   "outputs": [
    {
     "name": "stdout",
     "output_type": "stream",
     "text": [
      "     test  root          lib      file                                   oc  \\\n",
      "0    test  root    logic_vvt  milkyway  logl16hdl090f_m11f2f1f3f2f0f2_UTRDL   \n",
      "1    test  root    power_vvt  milkyway  logl20hdh090f_m11f2f1f3f2f0f2_UTRDL   \n",
      "2    test  root  logic_vvt_2  milkyway  logl20hdl090f_m11f2f1f3f2f0f2_UTRDL   \n",
      "3    test  root    logic_lvt   db_nldm     logl20hdl090f_ssgnp0p63v0c.lib.Z   \n",
      "4    test  root    logic_lvt   db_nldm     logl20hdl090f_ffgnp0p935vn40c.db   \n",
      "..    ...   ...          ...       ...                                  ...   \n",
      "444  test  root  logic_vvt_2   db_nldm  logl20hdl090f_ffgnp0p935v125c.lib.Z   \n",
      "445  test  root  logic_vvt_2    db_ccs        logl20hdl090f_tt0p8v25c.lib.Z   \n",
      "446  test  root  logic_vvt_2    db_ccs  logl20hdl090f_ffgnp0p935v125c.lib.Z   \n",
      "447  test  root  logic_vvt_2    db_ccs       logl20hdl090f_tt0p85v85c.lib.Z   \n",
      "448  test  root  logic_vvt_2    db_ccs      logl20hdl090f_ffgnp0p77vn40c.db   \n",
      "\n",
      "               oc1                    oc2                     OC   oc2a  \n",
      "0    logl16hdl090f  m11f2f1f3f2f0f2_UTRDL  m11f2f1f3f2f0f2_UTRDL   None  \n",
      "1    logl20hdh090f  m11f2f1f3f2f0f2_UTRDL  m11f2f1f3f2f0f2_UTRDL   None  \n",
      "2    logl20hdl090f  m11f2f1f3f2f0f2_UTRDL  m11f2f1f3f2f0f2_UTRDL   None  \n",
      "3    logl20hdl090f     ssgnp0p63v0c.lib.Z           ssgnp0p63v0c  lib.Z  \n",
      "4    logl20hdl090f     ffgnp0p935vn40c.db        ffgnp0p935vn40c     db  \n",
      "..             ...                    ...                    ...    ...  \n",
      "444  logl20hdl090f  ffgnp0p935v125c.lib.Z        ffgnp0p935v125c  lib.Z  \n",
      "445  logl20hdl090f        tt0p8v25c.lib.Z              tt0p8v25c  lib.Z  \n",
      "446  logl20hdl090f  ffgnp0p935v125c.lib.Z        ffgnp0p935v125c  lib.Z  \n",
      "447  logl20hdl090f       tt0p85v85c.lib.Z             tt0p85v85c  lib.Z  \n",
      "448  logl20hdl090f      ffgnp0p77vn40c.db         ffgnp0p77vn40c     db  \n",
      "\n",
      "[449 rows x 9 columns]\n"
     ]
    }
   ],
   "source": [
    "\n",
    "df1[['OC','oc2a']] = df1['oc2'].str.split('.',n=1,expand=True)\n",
    "print(df1)"
   ]
  },
  {
   "cell_type": "code",
   "execution_count": 16,
   "id": "612db061-9ade-49aa-b1f7-583f097264a3",
   "metadata": {},
   "outputs": [],
   "source": [
    "df2=pd.read_csv('C:/Users/singa/Downloads/patterns.csv',delimiter= ',')\n"
   ]
  },
  {
   "cell_type": "code",
   "execution_count": 17,
   "id": "335ac60c-8a8f-4ac3-8a21-5f5d16a194ca",
   "metadata": {},
   "outputs": [
    {
     "data": {
      "text/html": [
       "<div>\n",
       "<style scoped>\n",
       "    .dataframe tbody tr th:only-of-type {\n",
       "        vertical-align: middle;\n",
       "    }\n",
       "\n",
       "    .dataframe tbody tr th {\n",
       "        vertical-align: top;\n",
       "    }\n",
       "\n",
       "    .dataframe thead th {\n",
       "        text-align: right;\n",
       "    }\n",
       "</style>\n",
       "<table border=\"1\" class=\"dataframe\">\n",
       "  <thead>\n",
       "    <tr style=\"text-align: right;\">\n",
       "      <th></th>\n",
       "      <th>#Library</th>\n",
       "      <th>Unnamed: 1</th>\n",
       "      <th>Unnamed: 2</th>\n",
       "    </tr>\n",
       "  </thead>\n",
       "  <tbody>\n",
       "    <tr>\n",
       "      <th>0</th>\n",
       "      <td>lib</td>\n",
       "      <td>logic_vvt</td>\n",
       "      <td>*vvt*</td>\n",
       "    </tr>\n",
       "    <tr>\n",
       "      <th>1</th>\n",
       "      <td>lib</td>\n",
       "      <td>logic_lvt</td>\n",
       "      <td>*lvt*</td>\n",
       "    </tr>\n",
       "    <tr>\n",
       "      <th>2</th>\n",
       "      <td>lib</td>\n",
       "      <td>power_vvt</td>\n",
       "      <td>*power*vvt*</td>\n",
       "    </tr>\n",
       "  </tbody>\n",
       "</table>\n",
       "</div>"
      ],
      "text/plain": [
       "  #Library Unnamed: 1   Unnamed: 2\n",
       "0      lib  logic_vvt        *vvt*\n",
       "1      lib  logic_lvt       *lvt* \n",
       "2      lib  power_vvt  *power*vvt*"
      ]
     },
     "execution_count": 17,
     "metadata": {},
     "output_type": "execute_result"
    }
   ],
   "source": [
    "df2.head(3)"
   ]
  },
  {
   "cell_type": "code",
   "execution_count": 18,
   "id": "87a9689c-c300-46ba-8e17-74216bec4bab",
   "metadata": {},
   "outputs": [],
   "source": [
    "df2.rename( columns=({'#Library':'type','Unnamed: 1':'value','Unnamed: 2':'pattern'}), inplace=True )"
   ]
  },
  {
   "cell_type": "code",
   "execution_count": 19,
   "id": "bb98ee61-7cff-4275-82d3-16fc0187e924",
   "metadata": {},
   "outputs": [],
   "source": [
    "filt=df2['type']=='lib'"
   ]
  },
  {
   "cell_type": "code",
   "execution_count": 20,
   "id": "da62908e-00f6-4ec5-87cc-f75acb92c163",
   "metadata": {},
   "outputs": [],
   "source": [
    "df3=df2.loc[filt]"
   ]
  },
  {
   "cell_type": "code",
   "execution_count": 21,
   "id": "08995dd5-ee50-49b4-acc3-d48e614ac6be",
   "metadata": {},
   "outputs": [
    {
     "name": "stdout",
     "output_type": "stream",
     "text": [
      "  type      value      pattern\n",
      "0  lib  logic_vvt        *vvt*\n",
      "1  lib  logic_lvt       *lvt* \n",
      "2  lib  power_vvt  *power*vvt*\n"
     ]
    }
   ],
   "source": [
    "print(df3)"
   ]
  },
  {
   "cell_type": "code",
   "execution_count": 22,
   "id": "f30c2a17-acb7-4ec9-8a27-be579936b9f2",
   "metadata": {},
   "outputs": [],
   "source": [
    "dflib=pd.DataFrame()\n",
    "dflib['lib']=df3['value']"
   ]
  },
  {
   "cell_type": "code",
   "execution_count": 23,
   "id": "75942b06-7bad-4e0a-b6fc-95cc2867d5c1",
   "metadata": {},
   "outputs": [
    {
     "name": "stdout",
     "output_type": "stream",
     "text": [
      "                 file\n",
      "5     db_ccs_filelist\n",
      "6    lib_ccs_filelist\n",
      "7    db_nldm_filelist\n",
      "8                demo\n",
      "9   lib_nldm_filelist\n",
      "10       lef_filelist\n",
      "11       gds_filelist\n",
      "12           lvs_deck\n",
      "13    metal_fill_deck\n",
      "14           vlog-sim\n",
      "15            vlog-pg\n",
      "16    hspice_filelist\n",
      "17          vlog-tmax\n"
     ]
    }
   ],
   "source": [
    "filt1=df2['type']=='file'\n",
    "df4=df2.loc[filt1]\n",
    "\n",
    "\n",
    "dffile=pd.DataFrame()\n",
    "dffile['file']=df4['value']\n",
    "print(dffile)\n"
   ]
  },
  {
   "cell_type": "code",
   "execution_count": null,
   "id": "2cae8be4-179a-47a3-9d5a-4c1be2203458",
   "metadata": {},
   "outputs": [],
   "source": []
  },
  {
   "cell_type": "code",
   "execution_count": 24,
   "id": "1617b070-cc12-4a86-b57b-10b4a74348cb",
   "metadata": {},
   "outputs": [
    {
     "name": "stdout",
     "output_type": "stream",
     "text": [
      "                 file      file1     file2     file3\n",
      "5     db_ccs_filelist         db       ccs  filelist\n",
      "6    lib_ccs_filelist        lib       ccs  filelist\n",
      "7    db_nldm_filelist         db      nldm  filelist\n",
      "8                demo       demo      None      None\n",
      "9   lib_nldm_filelist        lib      nldm  filelist\n",
      "10       lef_filelist        lef  filelist      None\n",
      "11       gds_filelist        gds  filelist      None\n",
      "12           lvs_deck        lvs      deck      None\n",
      "13    metal_fill_deck      metal      fill      deck\n",
      "14           vlog-sim   vlog-sim      None      None\n",
      "15            vlog-pg    vlog-pg      None      None\n",
      "16    hspice_filelist     hspice  filelist      None\n",
      "17          vlog-tmax  vlog-tmax      None      None\n"
     ]
    }
   ],
   "source": [
    "dffile[['file1','file2','file3']]=dffile['file'].str.split('_',expand=True)\n",
    "print(dffile)"
   ]
  },
  {
   "cell_type": "code",
   "execution_count": null,
   "id": "730086ac-7019-4128-a218-3e4f44e11b70",
   "metadata": {},
   "outputs": [],
   "source": []
  },
  {
   "cell_type": "code",
   "execution_count": 25,
   "id": "513fd0c9-080e-4b17-a6db-9d404f9f3fda",
   "metadata": {},
   "outputs": [
    {
     "name": "stdout",
     "output_type": "stream",
     "text": [
      "                 file      file1     file2\n",
      "5     db_ccs_filelist         db       ccs\n",
      "6    lib_ccs_filelist        lib       ccs\n",
      "7    db_nldm_filelist         db      nldm\n",
      "8                demo       demo      None\n",
      "9   lib_nldm_filelist        lib      nldm\n",
      "10       lef_filelist        lef  filelist\n",
      "11       gds_filelist        gds  filelist\n",
      "12           lvs_deck        lvs      deck\n",
      "13    metal_fill_deck      metal      fill\n",
      "14           vlog-sim   vlog-sim      None\n",
      "15            vlog-pg    vlog-pg      None\n",
      "16    hspice_filelist     hspice  filelist\n",
      "17          vlog-tmax  vlog-tmax      None\n"
     ]
    }
   ],
   "source": [
    "dffile.drop(['file3'],axis=1,inplace=True)\n",
    "print(dffile)"
   ]
  },
  {
   "cell_type": "code",
   "execution_count": 26,
   "id": "e2fefb3a-2b6c-4f7a-8fb3-aa99609a91e9",
   "metadata": {},
   "outputs": [
    {
     "name": "stdout",
     "output_type": "stream",
     "text": [
      "     test  root          lib      file                                   oc  \\\n",
      "0    test  root    logic_vvt  milkyway  logl16hdl090f_m11f2f1f3f2f0f2_UTRDL   \n",
      "1    test  root    power_vvt  milkyway  logl20hdh090f_m11f2f1f3f2f0f2_UTRDL   \n",
      "2    test  root  logic_vvt_2  milkyway  logl20hdl090f_m11f2f1f3f2f0f2_UTRDL   \n",
      "3    test  root    logic_lvt   db_nldm     logl20hdl090f_ssgnp0p63v0c.lib.Z   \n",
      "4    test  root    logic_lvt   db_nldm     logl20hdl090f_ffgnp0p935vn40c.db   \n",
      "..    ...   ...          ...       ...                                  ...   \n",
      "444  test  root  logic_vvt_2   db_nldm  logl20hdl090f_ffgnp0p935v125c.lib.Z   \n",
      "445  test  root  logic_vvt_2    db_ccs        logl20hdl090f_tt0p8v25c.lib.Z   \n",
      "446  test  root  logic_vvt_2    db_ccs  logl20hdl090f_ffgnp0p935v125c.lib.Z   \n",
      "447  test  root  logic_vvt_2    db_ccs       logl20hdl090f_tt0p85v85c.lib.Z   \n",
      "448  test  root  logic_vvt_2    db_ccs      logl20hdl090f_ffgnp0p77vn40c.db   \n",
      "\n",
      "               oc1                    oc2                     OC   oc2a  \\\n",
      "0    logl16hdl090f        m11f2f1f3f2f0f2  m11f2f1f3f2f0f2_UTRDL   None   \n",
      "1    logl20hdh090f        m11f2f1f3f2f0f2  m11f2f1f3f2f0f2_UTRDL   None   \n",
      "2    logl20hdl090f        m11f2f1f3f2f0f2  m11f2f1f3f2f0f2_UTRDL   None   \n",
      "3    logl20hdl090f     ssgnp0p63v0c.lib.Z           ssgnp0p63v0c  lib.Z   \n",
      "4    logl20hdl090f     ffgnp0p935vn40c.db        ffgnp0p935vn40c     db   \n",
      "..             ...                    ...                    ...    ...   \n",
      "444  logl20hdl090f  ffgnp0p935v125c.lib.Z        ffgnp0p935v125c  lib.Z   \n",
      "445  logl20hdl090f        tt0p8v25c.lib.Z              tt0p8v25c  lib.Z   \n",
      "446  logl20hdl090f  ffgnp0p935v125c.lib.Z        ffgnp0p935v125c  lib.Z   \n",
      "447  logl20hdl090f       tt0p85v85c.lib.Z             tt0p85v85c  lib.Z   \n",
      "448  logl20hdl090f      ffgnp0p77vn40c.db         ffgnp0p77vn40c     db   \n",
      "\n",
      "        file1 file2    oc3  \n",
      "0    milkyway  None  UTRDL  \n",
      "1    milkyway  None  UTRDL  \n",
      "2    milkyway  None  UTRDL  \n",
      "3          db  nldm   None  \n",
      "4          db  nldm   None  \n",
      "..        ...   ...    ...  \n",
      "444        db  nldm   None  \n",
      "445        db   ccs   None  \n",
      "446        db   ccs   None  \n",
      "447        db   ccs   None  \n",
      "448        db   ccs   None  \n",
      "\n",
      "[449 rows x 12 columns]\n"
     ]
    }
   ],
   "source": [
    "\n",
    "\n",
    "df1[['oc1','oc2','oc3']]=df1['oc'].str.split('_',expand=True)\n",
    "\n",
    "print(df1)"
   ]
  },
  {
   "cell_type": "code",
   "execution_count": null,
   "id": "99b1dfb9-301c-4de1-9eb0-ec5b927933f4",
   "metadata": {},
   "outputs": [],
   "source": []
  },
  {
   "cell_type": "code",
   "execution_count": 27,
   "id": "0ee48699-1a20-4024-833b-884578c83f58",
   "metadata": {},
   "outputs": [],
   "source": [
    "filt2=df2['type']=='oc'\n"
   ]
  },
  {
   "cell_type": "code",
   "execution_count": 28,
   "id": "f44aed86-f80f-43b3-aaf1-ea91c30f3c40",
   "metadata": {},
   "outputs": [],
   "source": [
    "df6=df2.loc[filt2]\n"
   ]
  },
  {
   "cell_type": "code",
   "execution_count": 29,
   "id": "917a8316-3118-42b6-8bdb-2f9124fdffcf",
   "metadata": {},
   "outputs": [
    {
     "name": "stdout",
     "output_type": "stream",
     "text": [
      "                 OC\n",
      "20     FFGOP77V125C\n",
      "21      FF0P88V125C\n",
      "22    FFG0P935V125C\n",
      "23     FFGNP0P77V0C\n",
      "24   FFGNP0P77V125C\n",
      "25   FFGNP0P77VN40C\n",
      "26     FFGNP0P88V0C\n",
      "27   FFGNP0P88V125C\n",
      "28   FFGNP0P88VN40C\n",
      "29    FFGNP0P935V0C\n",
      "30  FFGNP0P935V125C\n",
      "31  FFGNP-P935VN40C\n",
      "32     SSGNP0P63V0C\n",
      "33   SSGNP0P63V125C\n",
      "34   SSGNP0P63VN40C\n",
      "35     SSGNP0P72V0C\n",
      "36   SSGNP0P72V125C\n",
      "37   SSGNP0P72VN40C\n",
      "38    SSGNP0P765V0C\n",
      "39  SSGNP0P765V125C\n",
      "40  SSGNP0P765VN40C\n",
      "41        TT0P7V25C\n",
      "42        TT0P7V85C\n",
      "43       TT0P85V25C\n",
      "44        TT0P8V25C\n",
      "45        TT0P8V85C\n",
      "46       TT0P85V85C\n"
     ]
    }
   ],
   "source": [
    "dfoc=pd.DataFrame()\n",
    "dfoc['OC']=df6['value']\n",
    "print(dfoc)\n"
   ]
  },
  {
   "cell_type": "code",
   "execution_count": 30,
   "id": "1bef08b7-735e-48c6-8e2b-dcdc9b0d1fb5",
   "metadata": {},
   "outputs": [
    {
     "data": {
      "text/html": [
       "<div>\n",
       "<style scoped>\n",
       "    .dataframe tbody tr th:only-of-type {\n",
       "        vertical-align: middle;\n",
       "    }\n",
       "\n",
       "    .dataframe tbody tr th {\n",
       "        vertical-align: top;\n",
       "    }\n",
       "\n",
       "    .dataframe thead th {\n",
       "        text-align: right;\n",
       "    }\n",
       "</style>\n",
       "<table border=\"1\" class=\"dataframe\">\n",
       "  <thead>\n",
       "    <tr style=\"text-align: right;\">\n",
       "      <th></th>\n",
       "      <th>test</th>\n",
       "      <th>root</th>\n",
       "      <th>lib</th>\n",
       "      <th>file</th>\n",
       "      <th>oc</th>\n",
       "      <th>oc1</th>\n",
       "      <th>oc2</th>\n",
       "      <th>OC</th>\n",
       "      <th>oc2a</th>\n",
       "      <th>file1</th>\n",
       "      <th>file2</th>\n",
       "      <th>oc3</th>\n",
       "    </tr>\n",
       "  </thead>\n",
       "  <tbody>\n",
       "    <tr>\n",
       "      <th>0</th>\n",
       "      <td>test</td>\n",
       "      <td>root</td>\n",
       "      <td>logic_vvt</td>\n",
       "      <td>milkyway</td>\n",
       "      <td>logl16hdl090f_m11f2f1f3f2f0f2_UTRDL</td>\n",
       "      <td>logl16hdl090f</td>\n",
       "      <td>m11f2f1f3f2f0f2</td>\n",
       "      <td>M11F2F1F3F2F0F2_UTRDL</td>\n",
       "      <td>None</td>\n",
       "      <td>milkyway</td>\n",
       "      <td>None</td>\n",
       "      <td>UTRDL</td>\n",
       "    </tr>\n",
       "    <tr>\n",
       "      <th>1</th>\n",
       "      <td>test</td>\n",
       "      <td>root</td>\n",
       "      <td>power_vvt</td>\n",
       "      <td>milkyway</td>\n",
       "      <td>logl20hdh090f_m11f2f1f3f2f0f2_UTRDL</td>\n",
       "      <td>logl20hdh090f</td>\n",
       "      <td>m11f2f1f3f2f0f2</td>\n",
       "      <td>M11F2F1F3F2F0F2_UTRDL</td>\n",
       "      <td>None</td>\n",
       "      <td>milkyway</td>\n",
       "      <td>None</td>\n",
       "      <td>UTRDL</td>\n",
       "    </tr>\n",
       "    <tr>\n",
       "      <th>2</th>\n",
       "      <td>test</td>\n",
       "      <td>root</td>\n",
       "      <td>logic_vvt_2</td>\n",
       "      <td>milkyway</td>\n",
       "      <td>logl20hdl090f_m11f2f1f3f2f0f2_UTRDL</td>\n",
       "      <td>logl20hdl090f</td>\n",
       "      <td>m11f2f1f3f2f0f2</td>\n",
       "      <td>M11F2F1F3F2F0F2_UTRDL</td>\n",
       "      <td>None</td>\n",
       "      <td>milkyway</td>\n",
       "      <td>None</td>\n",
       "      <td>UTRDL</td>\n",
       "    </tr>\n",
       "    <tr>\n",
       "      <th>3</th>\n",
       "      <td>test</td>\n",
       "      <td>root</td>\n",
       "      <td>logic_lvt</td>\n",
       "      <td>db_nldm</td>\n",
       "      <td>logl20hdl090f_ssgnp0p63v0c.lib.Z</td>\n",
       "      <td>logl20hdl090f</td>\n",
       "      <td>ssgnp0p63v0c.lib.Z</td>\n",
       "      <td>SSGNP0P63V0C</td>\n",
       "      <td>lib.Z</td>\n",
       "      <td>db</td>\n",
       "      <td>nldm</td>\n",
       "      <td>None</td>\n",
       "    </tr>\n",
       "    <tr>\n",
       "      <th>4</th>\n",
       "      <td>test</td>\n",
       "      <td>root</td>\n",
       "      <td>logic_lvt</td>\n",
       "      <td>db_nldm</td>\n",
       "      <td>logl20hdl090f_ffgnp0p935vn40c.db</td>\n",
       "      <td>logl20hdl090f</td>\n",
       "      <td>ffgnp0p935vn40c.db</td>\n",
       "      <td>FFGNP0P935VN40C</td>\n",
       "      <td>db</td>\n",
       "      <td>db</td>\n",
       "      <td>nldm</td>\n",
       "      <td>None</td>\n",
       "    </tr>\n",
       "  </tbody>\n",
       "</table>\n",
       "</div>"
      ],
      "text/plain": [
       "   test  root          lib      file                                   oc  \\\n",
       "0  test  root    logic_vvt  milkyway  logl16hdl090f_m11f2f1f3f2f0f2_UTRDL   \n",
       "1  test  root    power_vvt  milkyway  logl20hdh090f_m11f2f1f3f2f0f2_UTRDL   \n",
       "2  test  root  logic_vvt_2  milkyway  logl20hdl090f_m11f2f1f3f2f0f2_UTRDL   \n",
       "3  test  root    logic_lvt   db_nldm     logl20hdl090f_ssgnp0p63v0c.lib.Z   \n",
       "4  test  root    logic_lvt   db_nldm     logl20hdl090f_ffgnp0p935vn40c.db   \n",
       "\n",
       "             oc1                 oc2                     OC   oc2a     file1  \\\n",
       "0  logl16hdl090f     m11f2f1f3f2f0f2  M11F2F1F3F2F0F2_UTRDL   None  milkyway   \n",
       "1  logl20hdh090f     m11f2f1f3f2f0f2  M11F2F1F3F2F0F2_UTRDL   None  milkyway   \n",
       "2  logl20hdl090f     m11f2f1f3f2f0f2  M11F2F1F3F2F0F2_UTRDL   None  milkyway   \n",
       "3  logl20hdl090f  ssgnp0p63v0c.lib.Z           SSGNP0P63V0C  lib.Z        db   \n",
       "4  logl20hdl090f  ffgnp0p935vn40c.db        FFGNP0P935VN40C     db        db   \n",
       "\n",
       "  file2    oc3  \n",
       "0  None  UTRDL  \n",
       "1  None  UTRDL  \n",
       "2  None  UTRDL  \n",
       "3  nldm   None  \n",
       "4  nldm   None  "
      ]
     },
     "execution_count": 30,
     "metadata": {},
     "output_type": "execute_result"
    }
   ],
   "source": [
    "df1['OC']=df1['OC'].str.upper()\n",
    "df1.head(5)"
   ]
  },
  {
   "cell_type": "code",
   "execution_count": 31,
   "id": "632d14a8-722c-4578-84e7-31a3364415db",
   "metadata": {},
   "outputs": [],
   "source": [
    "dftemp=pd.DataFrame()\n",
    "dftemp=(pd.merge(df1,dflib,on=['lib'],how=\"inner\"))"
   ]
  },
  {
   "cell_type": "code",
   "execution_count": 32,
   "id": "c83414de-3760-4acc-a4f2-067c9457ed21",
   "metadata": {},
   "outputs": [],
   "source": [
    "dftemp2=(pd.merge(dftemp,dffile,on=['file1','file2'],how=\"inner\"))"
   ]
  },
  {
   "cell_type": "code",
   "execution_count": 33,
   "id": "513ab578-41ec-4fed-8425-47e3e9b5ecb5",
   "metadata": {},
   "outputs": [
    {
     "name": "stdout",
     "output_type": "stream",
     "text": [
      "     test  root        lib   file_x                                  oc  \\\n",
      "0    test  root  logic_vvt  db_nldm  logl16hdl090f_ssgnp0p63vn40c.lib.Z   \n",
      "1    test  root  logic_vvt  db_nldm  logl16hdl090f_ffgnp0p77v125c.lib.Z   \n",
      "2    test  root  logic_vvt  db_nldm       logl16hdl090f_ffgnp0p77v0c.db   \n",
      "3    test  root  logic_vvt  db_nldm  logl16hdl090f_ssgnp0p63v125c.lib.Z   \n",
      "4    test  root  logic_vvt  db_nldm          logl16hdl090f_tt0p7v85c.db   \n",
      "..    ...   ...        ...      ...                                 ...   \n",
      "319  test  root  logic_lvt   db_ccs     logl20hdl090f_ssgnp0p63v125c.db   \n",
      "320  test  root  logic_lvt   db_ccs     logl20hdl090f_ffgnp0p77v125c.db   \n",
      "321  test  root  logic_lvt   db_ccs          logl20hdl090f_tt0p8v25c.db   \n",
      "322  test  root  logic_lvt   db_ccs      logl20hdl090f_ffgnp0p935v0c.db   \n",
      "323  test  root  logic_lvt   db_ccs  logl20hdl090f_ffgnp0p77v125c.lib.Z   \n",
      "\n",
      "               oc1                   oc2              OC   oc2a file1 file2  \\\n",
      "0    logl16hdl090f  ssgnp0p63vn40c.lib.Z  SSGNP0P63VN40C  lib.Z    db  nldm   \n",
      "1    logl16hdl090f  ffgnp0p77v125c.lib.Z  FFGNP0P77V125C  lib.Z    db  nldm   \n",
      "2    logl16hdl090f       ffgnp0p77v0c.db    FFGNP0P77V0C     db    db  nldm   \n",
      "3    logl16hdl090f  ssgnp0p63v125c.lib.Z  SSGNP0P63V125C  lib.Z    db  nldm   \n",
      "4    logl16hdl090f          tt0p7v85c.db       TT0P7V85C     db    db  nldm   \n",
      "..             ...                   ...             ...    ...   ...   ...   \n",
      "319  logl20hdl090f     ssgnp0p63v125c.db  SSGNP0P63V125C     db    db   ccs   \n",
      "320  logl20hdl090f     ffgnp0p77v125c.db  FFGNP0P77V125C     db    db   ccs   \n",
      "321  logl20hdl090f          tt0p8v25c.db       TT0P8V25C     db    db   ccs   \n",
      "322  logl20hdl090f      ffgnp0p935v0c.db   FFGNP0P935V0C     db    db   ccs   \n",
      "323  logl20hdl090f  ffgnp0p77v125c.lib.Z  FFGNP0P77V125C  lib.Z    db   ccs   \n",
      "\n",
      "      oc3            file_y  \n",
      "0    None  db_nldm_filelist  \n",
      "1    None  db_nldm_filelist  \n",
      "2    None  db_nldm_filelist  \n",
      "3    None  db_nldm_filelist  \n",
      "4    None  db_nldm_filelist  \n",
      "..    ...               ...  \n",
      "319  None   db_ccs_filelist  \n",
      "320  None   db_ccs_filelist  \n",
      "321  None   db_ccs_filelist  \n",
      "322  None   db_ccs_filelist  \n",
      "323  None   db_ccs_filelist  \n",
      "\n",
      "[324 rows x 13 columns]\n"
     ]
    }
   ],
   "source": [
    "print(dftemp2)"
   ]
  },
  {
   "cell_type": "code",
   "execution_count": null,
   "id": "59171e8f-2bbc-49f9-9678-244f9245bb94",
   "metadata": {},
   "outputs": [],
   "source": []
  },
  {
   "cell_type": "code",
   "execution_count": 34,
   "id": "fa5705f8-5416-40e7-9701-96a9e5b06dd3",
   "metadata": {},
   "outputs": [],
   "source": [
    "dftemp3=(pd.merge(dftemp2,dfoc,on=['OC'],how=\"inner\"))"
   ]
  },
  {
   "cell_type": "code",
   "execution_count": 38,
   "id": "0d2a6275-3fee-4a20-9f3a-c14261f8cab1",
   "metadata": {},
   "outputs": [
    {
     "data": {
      "text/html": [
       "<div>\n",
       "<style scoped>\n",
       "    .dataframe tbody tr th:only-of-type {\n",
       "        vertical-align: middle;\n",
       "    }\n",
       "\n",
       "    .dataframe tbody tr th {\n",
       "        vertical-align: top;\n",
       "    }\n",
       "\n",
       "    .dataframe thead th {\n",
       "        text-align: right;\n",
       "    }\n",
       "</style>\n",
       "<table border=\"1\" class=\"dataframe\">\n",
       "  <thead>\n",
       "    <tr style=\"text-align: right;\">\n",
       "      <th></th>\n",
       "      <th>test</th>\n",
       "      <th>root</th>\n",
       "      <th>lib</th>\n",
       "      <th>file_x</th>\n",
       "      <th>oc</th>\n",
       "      <th>oc1</th>\n",
       "      <th>oc2</th>\n",
       "      <th>OC</th>\n",
       "      <th>oc2a</th>\n",
       "      <th>file1</th>\n",
       "      <th>file2</th>\n",
       "      <th>oc3</th>\n",
       "      <th>file_y</th>\n",
       "    </tr>\n",
       "  </thead>\n",
       "  <tbody>\n",
       "    <tr>\n",
       "      <th>0</th>\n",
       "      <td>test</td>\n",
       "      <td>root</td>\n",
       "      <td>logic_vvt</td>\n",
       "      <td>db_nldm</td>\n",
       "      <td>logl16hdl090f_ssgnp0p63vn40c.lib.Z</td>\n",
       "      <td>logl16hdl090f</td>\n",
       "      <td>ssgnp0p63vn40c.lib.Z</td>\n",
       "      <td>SSGNP0P63VN40C</td>\n",
       "      <td>lib.Z</td>\n",
       "      <td>db</td>\n",
       "      <td>nldm</td>\n",
       "      <td>None</td>\n",
       "      <td>db_nldm_filelist</td>\n",
       "    </tr>\n",
       "    <tr>\n",
       "      <th>1</th>\n",
       "      <td>test</td>\n",
       "      <td>root</td>\n",
       "      <td>logic_vvt</td>\n",
       "      <td>db_nldm</td>\n",
       "      <td>logl16hdl090f_ssgnp0p63vn40c.db</td>\n",
       "      <td>logl16hdl090f</td>\n",
       "      <td>ssgnp0p63vn40c.db</td>\n",
       "      <td>SSGNP0P63VN40C</td>\n",
       "      <td>db</td>\n",
       "      <td>db</td>\n",
       "      <td>nldm</td>\n",
       "      <td>None</td>\n",
       "      <td>db_nldm_filelist</td>\n",
       "    </tr>\n",
       "    <tr>\n",
       "      <th>2</th>\n",
       "      <td>test</td>\n",
       "      <td>root</td>\n",
       "      <td>power_vvt</td>\n",
       "      <td>db_nldm</td>\n",
       "      <td>logl20hdh090f_ssgnp0p63vn40c.lib.Z</td>\n",
       "      <td>logl20hdh090f</td>\n",
       "      <td>ssgnp0p63vn40c.lib.Z</td>\n",
       "      <td>SSGNP0P63VN40C</td>\n",
       "      <td>lib.Z</td>\n",
       "      <td>db</td>\n",
       "      <td>nldm</td>\n",
       "      <td>None</td>\n",
       "      <td>db_nldm_filelist</td>\n",
       "    </tr>\n",
       "  </tbody>\n",
       "</table>\n",
       "</div>"
      ],
      "text/plain": [
       "   test  root        lib   file_x                                  oc  \\\n",
       "0  test  root  logic_vvt  db_nldm  logl16hdl090f_ssgnp0p63vn40c.lib.Z   \n",
       "1  test  root  logic_vvt  db_nldm     logl16hdl090f_ssgnp0p63vn40c.db   \n",
       "2  test  root  power_vvt  db_nldm  logl20hdh090f_ssgnp0p63vn40c.lib.Z   \n",
       "\n",
       "             oc1                   oc2              OC   oc2a file1 file2  \\\n",
       "0  logl16hdl090f  ssgnp0p63vn40c.lib.Z  SSGNP0P63VN40C  lib.Z    db  nldm   \n",
       "1  logl16hdl090f     ssgnp0p63vn40c.db  SSGNP0P63VN40C     db    db  nldm   \n",
       "2  logl20hdh090f  ssgnp0p63vn40c.lib.Z  SSGNP0P63VN40C  lib.Z    db  nldm   \n",
       "\n",
       "    oc3            file_y  \n",
       "0  None  db_nldm_filelist  \n",
       "1  None  db_nldm_filelist  \n",
       "2  None  db_nldm_filelist  "
      ]
     },
     "execution_count": 38,
     "metadata": {},
     "output_type": "execute_result"
    }
   ],
   "source": [
    "dftemp3.head(3)"
   ]
  },
  {
   "cell_type": "code",
   "execution_count": 39,
   "id": "db6ed6ac-2579-4749-8dee-a0e102da7fd2",
   "metadata": {},
   "outputs": [],
   "source": [
    "dftemp3['File_name']=dftemp3['test']+\"/\"+dftemp3['root']+\"/\"+dftemp3['lib']+\"/\"+dftemp3['file_x']+\"/\"+dftemp3['oc']"
   ]
  },
  {
   "cell_type": "code",
   "execution_count": 40,
   "id": "17475045-5838-426b-ae73-65204d5a9299",
   "metadata": {},
   "outputs": [],
   "source": [
    "dftemp3.drop(['test','root','oc','oc1','oc2','file1','file2','oc2a','oc3','file_y'], axis=1, inplace=True)"
   ]
  },
  {
   "cell_type": "code",
   "execution_count": 41,
   "id": "b6ad5c3d-e56a-4990-bc82-7b36596d9a7b",
   "metadata": {},
   "outputs": [
    {
     "data": {
      "text/html": [
       "<div>\n",
       "<style scoped>\n",
       "    .dataframe tbody tr th:only-of-type {\n",
       "        vertical-align: middle;\n",
       "    }\n",
       "\n",
       "    .dataframe tbody tr th {\n",
       "        vertical-align: top;\n",
       "    }\n",
       "\n",
       "    .dataframe thead th {\n",
       "        text-align: right;\n",
       "    }\n",
       "</style>\n",
       "<table border=\"1\" class=\"dataframe\">\n",
       "  <thead>\n",
       "    <tr style=\"text-align: right;\">\n",
       "      <th></th>\n",
       "      <th>lib</th>\n",
       "      <th>file_x</th>\n",
       "      <th>OC</th>\n",
       "      <th>File_name</th>\n",
       "    </tr>\n",
       "  </thead>\n",
       "  <tbody>\n",
       "    <tr>\n",
       "      <th>0</th>\n",
       "      <td>logic_vvt</td>\n",
       "      <td>db_nldm</td>\n",
       "      <td>SSGNP0P63VN40C</td>\n",
       "      <td>test/root/logic_vvt/db_nldm/logl16hdl090f_ssgn...</td>\n",
       "    </tr>\n",
       "    <tr>\n",
       "      <th>1</th>\n",
       "      <td>logic_vvt</td>\n",
       "      <td>db_nldm</td>\n",
       "      <td>SSGNP0P63VN40C</td>\n",
       "      <td>test/root/logic_vvt/db_nldm/logl16hdl090f_ssgn...</td>\n",
       "    </tr>\n",
       "    <tr>\n",
       "      <th>2</th>\n",
       "      <td>power_vvt</td>\n",
       "      <td>db_nldm</td>\n",
       "      <td>SSGNP0P63VN40C</td>\n",
       "      <td>test/root/power_vvt/db_nldm/logl20hdh090f_ssgn...</td>\n",
       "    </tr>\n",
       "    <tr>\n",
       "      <th>3</th>\n",
       "      <td>power_vvt</td>\n",
       "      <td>db_nldm</td>\n",
       "      <td>SSGNP0P63VN40C</td>\n",
       "      <td>test/root/power_vvt/db_nldm/logl20hdh090f_ssgn...</td>\n",
       "    </tr>\n",
       "    <tr>\n",
       "      <th>4</th>\n",
       "      <td>logic_lvt</td>\n",
       "      <td>db_nldm</td>\n",
       "      <td>SSGNP0P63VN40C</td>\n",
       "      <td>test/root/logic_lvt/db_nldm/logl20hdl090f_ssgn...</td>\n",
       "    </tr>\n",
       "    <tr>\n",
       "      <th>...</th>\n",
       "      <td>...</td>\n",
       "      <td>...</td>\n",
       "      <td>...</td>\n",
       "      <td>...</td>\n",
       "    </tr>\n",
       "    <tr>\n",
       "      <th>283</th>\n",
       "      <td>logic_vvt</td>\n",
       "      <td>db_ccs</td>\n",
       "      <td>FFGNP0P88V0C</td>\n",
       "      <td>test/root/logic_vvt/db_ccs/logl16hdl090f_ffgnp...</td>\n",
       "    </tr>\n",
       "    <tr>\n",
       "      <th>284</th>\n",
       "      <td>power_vvt</td>\n",
       "      <td>db_ccs</td>\n",
       "      <td>FFGNP0P88V0C</td>\n",
       "      <td>test/root/power_vvt/db_ccs/logl20hdh090f_ffgnp...</td>\n",
       "    </tr>\n",
       "    <tr>\n",
       "      <th>285</th>\n",
       "      <td>power_vvt</td>\n",
       "      <td>db_ccs</td>\n",
       "      <td>FFGNP0P88V0C</td>\n",
       "      <td>test/root/power_vvt/db_ccs/logl20hdh090f_ffgnp...</td>\n",
       "    </tr>\n",
       "    <tr>\n",
       "      <th>286</th>\n",
       "      <td>logic_lvt</td>\n",
       "      <td>db_ccs</td>\n",
       "      <td>FFGNP0P88V0C</td>\n",
       "      <td>test/root/logic_lvt/db_ccs/logl20hdl090f_ffgnp...</td>\n",
       "    </tr>\n",
       "    <tr>\n",
       "      <th>287</th>\n",
       "      <td>logic_lvt</td>\n",
       "      <td>db_ccs</td>\n",
       "      <td>FFGNP0P88V0C</td>\n",
       "      <td>test/root/logic_lvt/db_ccs/logl20hdl090f_ffgnp...</td>\n",
       "    </tr>\n",
       "  </tbody>\n",
       "</table>\n",
       "<p>288 rows × 4 columns</p>\n",
       "</div>"
      ],
      "text/plain": [
       "           lib   file_x              OC  \\\n",
       "0    logic_vvt  db_nldm  SSGNP0P63VN40C   \n",
       "1    logic_vvt  db_nldm  SSGNP0P63VN40C   \n",
       "2    power_vvt  db_nldm  SSGNP0P63VN40C   \n",
       "3    power_vvt  db_nldm  SSGNP0P63VN40C   \n",
       "4    logic_lvt  db_nldm  SSGNP0P63VN40C   \n",
       "..         ...      ...             ...   \n",
       "283  logic_vvt   db_ccs    FFGNP0P88V0C   \n",
       "284  power_vvt   db_ccs    FFGNP0P88V0C   \n",
       "285  power_vvt   db_ccs    FFGNP0P88V0C   \n",
       "286  logic_lvt   db_ccs    FFGNP0P88V0C   \n",
       "287  logic_lvt   db_ccs    FFGNP0P88V0C   \n",
       "\n",
       "                                             File_name  \n",
       "0    test/root/logic_vvt/db_nldm/logl16hdl090f_ssgn...  \n",
       "1    test/root/logic_vvt/db_nldm/logl16hdl090f_ssgn...  \n",
       "2    test/root/power_vvt/db_nldm/logl20hdh090f_ssgn...  \n",
       "3    test/root/power_vvt/db_nldm/logl20hdh090f_ssgn...  \n",
       "4    test/root/logic_lvt/db_nldm/logl20hdl090f_ssgn...  \n",
       "..                                                 ...  \n",
       "283  test/root/logic_vvt/db_ccs/logl16hdl090f_ffgnp...  \n",
       "284  test/root/power_vvt/db_ccs/logl20hdh090f_ffgnp...  \n",
       "285  test/root/power_vvt/db_ccs/logl20hdh090f_ffgnp...  \n",
       "286  test/root/logic_lvt/db_ccs/logl20hdl090f_ffgnp...  \n",
       "287  test/root/logic_lvt/db_ccs/logl20hdl090f_ffgnp...  \n",
       "\n",
       "[288 rows x 4 columns]"
      ]
     },
     "execution_count": 41,
     "metadata": {},
     "output_type": "execute_result"
    }
   ],
   "source": [
    "dftemp3"
   ]
  },
  {
   "cell_type": "code",
   "execution_count": 42,
   "id": "c56f7959-995e-4d1b-a6ef-342250bff6d8",
   "metadata": {},
   "outputs": [],
   "source": [
    "\n",
    "dftemp3.head(5)\n",
    "dffinal=dftemp3"
   ]
  },
  {
   "cell_type": "code",
   "execution_count": 43,
   "id": "9bf489da-fe5a-4d48-9b9b-c6143d5105a8",
   "metadata": {},
   "outputs": [],
   "source": [
    "dup=dftemp3.duplicated()\n"
   ]
  },
  {
   "cell_type": "code",
   "execution_count": 44,
   "id": "f761101e-4bfe-46c7-9103-608855ff6eb0",
   "metadata": {},
   "outputs": [
    {
     "data": {
      "text/plain": [
       "False    288\n",
       "dtype: int64"
      ]
     },
     "execution_count": 44,
     "metadata": {},
     "output_type": "execute_result"
    }
   ],
   "source": [
    "pd.value_counts(dup)"
   ]
  },
  {
   "cell_type": "code",
   "execution_count": 45,
   "id": "f77907e3-b09b-4853-8d1a-177e12118012",
   "metadata": {},
   "outputs": [
    {
     "data": {
      "text/plain": [
       "logic_vvt    96\n",
       "power_vvt    96\n",
       "logic_lvt    96\n",
       "Name: lib, dtype: int64"
      ]
     },
     "execution_count": 45,
     "metadata": {},
     "output_type": "execute_result"
    }
   ],
   "source": [
    "pd.value_counts(dftemp3['lib'])"
   ]
  },
  {
   "cell_type": "code",
   "execution_count": 46,
   "id": "bd1f4636-aafb-4795-890c-dba33232f879",
   "metadata": {},
   "outputs": [],
   "source": [
    "dftemp3.to_csv('C:/Users/singa/Downloads/resultfinal.csv')\n",
    "\n",
    "\n"
   ]
  },
  {
   "cell_type": "code",
   "execution_count": null,
   "id": "006f0c9d-1972-4bb0-8947-8e17f11a9bb4",
   "metadata": {},
   "outputs": [],
   "source": []
  }
 ],
 "metadata": {
  "kernelspec": {
   "display_name": "Python 3 (ipykernel)",
   "language": "python",
   "name": "python3"
  },
  "language_info": {
   "codemirror_mode": {
    "name": "ipython",
    "version": 3
   },
   "file_extension": ".py",
   "mimetype": "text/x-python",
   "name": "python",
   "nbconvert_exporter": "python",
   "pygments_lexer": "ipython3",
   "version": "3.10.4"
  }
 },
 "nbformat": 4,
 "nbformat_minor": 5
}
